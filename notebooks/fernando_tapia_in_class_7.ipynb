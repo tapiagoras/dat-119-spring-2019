{
 "cells": [
  {
   "cell_type": "markdown",
   "metadata": {},
   "source": [
    "# In Class Assignment # 7\n",
    "\n",
    "### Practice # 1"
   ]
  },
  {
   "cell_type": "code",
   "execution_count": 1,
   "metadata": {},
   "outputs": [
    {
     "name": "stdout",
     "output_type": "stream",
     "text": [
      "* Star Wars\n",
      "* Harry Potter\n",
      "* Avengers\n",
      "* James Bond\n",
      "* Back to the Future\n",
      "* Aladdin\n"
     ]
    }
   ],
   "source": [
    "favorite_movies=[\"Star Wars\",\"Harry Potter\",\"Avengers\",\"James Bond\",\"Back to the Future\",\"Aladdin\"]\n",
    "for movie in favorite_movies:\n",
    "    print(\"*\",movie, end=\"\\n\")"
   ]
  },
  {
   "cell_type": "code",
   "execution_count": 2,
   "metadata": {},
   "outputs": [
    {
     "name": "stdout",
     "output_type": "stream",
     "text": [
      "Please enter a number from 1 to 6\n",
      "3\n"
     ]
    }
   ],
   "source": [
    "print(\"Please enter a number from 1 to\",len(favorite_movies))\n",
    "user_input=input()"
   ]
  },
  {
   "cell_type": "code",
   "execution_count": 3,
   "metadata": {},
   "outputs": [
    {
     "name": "stdout",
     "output_type": "stream",
     "text": [
      "You choose Avengers\n"
     ]
    }
   ],
   "source": [
    "print(\"You choose\",favorite_movies[int(user_input)-1])"
   ]
  },
  {
   "cell_type": "code",
   "execution_count": 4,
   "metadata": {},
   "outputs": [
    {
     "name": "stdout",
     "output_type": "stream",
     "text": [
      "the first three items on this list are: \n",
      "* Star Wars\n",
      "* Harry Potter\n",
      "* Avengers\n"
     ]
    }
   ],
   "source": [
    "first_three_items=favorite_movies[:3]\n",
    "print (\"the first three items on this list are: \")\n",
    "for movie in first_three_items:\n",
    "    print(\"*\",movie, end=\"\\n\")"
   ]
  },
  {
   "cell_type": "code",
   "execution_count": 5,
   "metadata": {},
   "outputs": [
    {
     "name": "stdout",
     "output_type": "stream",
     "text": [
      "the last three items on this list are: \n",
      "* Star Wars\n",
      "* Harry Potter\n",
      "* Avengers\n"
     ]
    }
   ],
   "source": [
    "last_three_items=favorite_movies[:3]\n",
    "print (\"the last three items on this list are: \")\n",
    "for movie in last_three_items:\n",
    "    print(\"*\",movie, end=\"\\n\")"
   ]
  },
  {
   "cell_type": "markdown",
   "metadata": {},
   "source": [
    "### Practice # 2"
   ]
  },
  {
   "cell_type": "code",
   "execution_count": 6,
   "metadata": {},
   "outputs": [
    {
     "name": "stdout",
     "output_type": "stream",
     "text": [
      "Sorted List of Movies:\n",
      "* Aladdin\n",
      "* Avengers\n",
      "* Back to the Future\n",
      "* Batman\n",
      "* Harry Potter\n",
      "* James Bond\n",
      "* Star Wars\n"
     ]
    }
   ],
   "source": [
    "if \"Batman\" not in favorite_movies:\n",
    "    favorite_movies.append(\"Batman\")\n",
    "else:\n",
    "    print(\"Batman is already in the list.\")\n",
    "favorite_movies.sort()\n",
    "print (\"Sorted List of Movies:\")\n",
    "for movie in favorite_movies:\n",
    "    print(\"*\",movie, end=\"\\n\")"
   ]
  },
  {
   "cell_type": "code",
   "execution_count": 7,
   "metadata": {},
   "outputs": [
    {
     "name": "stdout",
     "output_type": "stream",
     "text": [
      "Enter your least favorite movie: Batman\n",
      "\n",
      "\n",
      "Your updated List of Movies:\n",
      "* Aladdin\n",
      "* Avengers\n",
      "* Back to the Future\n",
      "* Harry Potter\n",
      "* James Bond\n",
      "* Star Wars\n"
     ]
    }
   ],
   "source": [
    "user_input=input(\"Enter your least favorite movie: \")\n",
    "print(\"\")\n",
    "if user_input in favorite_movies:\n",
    "    favorite_movies.remove(user_input)\n",
    "else:\n",
    "    print(user_input,\"is not in the list\")\n",
    "    \n",
    "print(\"\")\n",
    "print (\"Your updated List of Movies:\")\n",
    "for movie in favorite_movies:\n",
    "    print(\"*\",movie, end=\"\\n\")"
   ]
  },
  {
   "cell_type": "markdown",
   "metadata": {},
   "source": [
    "- Design a program that generates a 7-digit lottery number. Each digit should be random, in the range from 0 to 9. Assign each digit to a list element. Then display the lottery number as if it were a single number. \n",
    "\n",
    "## Pseudocode\n",
    "    1. Define lottery_number function\n",
    "    2. Inside the function do a while loop to generate 7 random numbers and assign the number to a list\n",
    "    3. return the list\n",
    "    4. call the function from main\n",
    "    5. print the returned list"
   ]
  },
  {
   "cell_type": "code",
   "execution_count": 47,
   "metadata": {},
   "outputs": [
    {
     "name": "stdout",
     "output_type": "stream",
     "text": [
      "Today’s lottery number is: 7864410"
     ]
    }
   ],
   "source": [
    "'''\n",
    "\n",
    " Fernando Tapia Tinoco \n",
    " 3/20/2019\n",
    " Python 1 - DAT-119 - Spring 2019\n",
    " In-class Assignment # 7\n",
    "     program that generates a 7 digits lottery number.\n",
    "\n",
    "'''\n",
    "#imports\n",
    "import random\n",
    "\n",
    "#functions\n",
    "def lottery_number():\n",
    "    random_lottery_number = []\n",
    "    for number in range(7):\n",
    "        random_lottery_number.append(random.randint(0, 9))\n",
    "    return random_lottery_number\n",
    "\n",
    "\n",
    "\n",
    "def main():\n",
    "    print(\"Today’s lottery number is: \",end=\"\")\n",
    "    for number in lottery_number():\n",
    "        print(number, end=\"\")\n",
    "    \n",
    "# and we run it with this incantation\n",
    "if __name__ == \"__main__\":\n",
    "    main()"
   ]
  },
  {
   "cell_type": "code",
   "execution_count": null,
   "metadata": {},
   "outputs": [],
   "source": []
  }
 ],
 "metadata": {
  "kernelspec": {
   "display_name": "Python 3",
   "language": "python",
   "name": "python3"
  },
  "language_info": {
   "codemirror_mode": {
    "name": "ipython",
    "version": 3
   },
   "file_extension": ".py",
   "mimetype": "text/x-python",
   "name": "python",
   "nbconvert_exporter": "python",
   "pygments_lexer": "ipython3",
   "version": "3.7.1"
  }
 },
 "nbformat": 4,
 "nbformat_minor": 2
}
