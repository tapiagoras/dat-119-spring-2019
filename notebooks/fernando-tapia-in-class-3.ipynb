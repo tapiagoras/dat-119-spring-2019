{
 "cells": [
  {
   "cell_type": "markdown",
   "metadata": {},
   "source": [
    "# In Class Assignment # 3\n",
    "\n",
    "Write a program that asks the user to input a number of seconds and breaks it down into hours, minutes, and seconds, which it outputs back to the user."
   ]
  },
  {
   "cell_type": "markdown",
   "metadata": {},
   "source": [
    "## Pseudocode\n",
    "\n",
    "1. Get input from user\n",
    "2. Cast the input as an integer\n",
    "3. Divide the input by 3600 using integer division and store it in a hours variable\n",
    "4. Get the module of the previous division and store it in an aux variable\n",
    "5. Divide the aux variable by 60 using integer division and store it in a minutes variable\n",
    "6. Get the module of the previous division and store it in a second variable\n",
    "7. Display the result to the user in hour format\n"
   ]
  },
  {
   "cell_type": "markdown",
   "metadata": {},
   "source": [
    "## Code"
   ]
  },
  {
   "cell_type": "code",
   "execution_count": 2,
   "metadata": {},
   "outputs": [
    {
     "name": "stdout",
     "output_type": "stream",
     "text": [
      "Insert a number of seconds: 234234\n",
      "In 234234 seconds you have: \n",
      "65 hours\n",
      "3 minutes\n",
      "54 seconds\n"
     ]
    }
   ],
   "source": [
    "'''\n",
    "\n",
    " Fernando Tapia Tinoco \n",
    " 2/20/2019\n",
    " Python 1 - DAT-119 - Spring 2019\n",
    " In Class Assignment # 3\n",
    "     Program that asks the user to input a number of seconds and breaks it down into\n",
    " hours, minutes, and seconds.\n",
    "\n",
    "'''\n",
    "# Input number of seconds and store in a variable\n",
    "initial_seconds=input(\"Insert a number of seconds: \")\n",
    "seconds=int(initial_seconds) # Casting the input as an integer\n",
    "\n",
    "# Hours Calculation\n",
    "hours = seconds//3600\n",
    "seconds = seconds%3600\n",
    "\n",
    "# Minutes Calculation\n",
    "minutes = seconds//60\n",
    "seconds = seconds%60 # What remains will be the seconds.\n",
    "\n",
    "# Output results\n",
    "print (\"In\", initial_seconds,\"seconds you have: \")\n",
    "print (hours, \"hours\")\n",
    "print (minutes, \"minutes\")\n",
    "print (seconds, \"seconds\")"
   ]
  },
  {
   "cell_type": "code",
   "execution_count": null,
   "metadata": {},
   "outputs": [],
   "source": []
  }
 ],
 "metadata": {
  "kernelspec": {
   "display_name": "Python 3",
   "language": "python",
   "name": "python3"
  },
  "language_info": {
   "codemirror_mode": {
    "name": "ipython",
    "version": 3
   },
   "file_extension": ".py",
   "mimetype": "text/x-python",
   "name": "python",
   "nbconvert_exporter": "python",
   "pygments_lexer": "ipython3",
   "version": "3.7.1"
  }
 },
 "nbformat": 4,
 "nbformat_minor": 2
}
