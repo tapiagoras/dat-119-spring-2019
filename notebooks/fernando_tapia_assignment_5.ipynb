{
 "cells": [
  {
   "cell_type": "markdown",
   "metadata": {},
   "source": [
    "# Assignment # 5\n",
    "\n",
    "1. Write a program that takes in a string from the user. Output the string in reverse, and tell them how many characters are in it. \n"
   ]
  },
  {
   "cell_type": "markdown",
   "metadata": {},
   "source": [
    "## Pseudocode\n",
    "\n",
    "    1. Get input from user\n",
    "    2. Loop from the length of the word backwards until zero decreasing by one unit\n",
    "    3. Inside the loop print the character of each position\n",
    "    4. print the len of the input"
   ]
  },
  {
   "cell_type": "code",
   "execution_count": 11,
   "metadata": {},
   "outputs": [
    {
     "name": "stdout",
     "output_type": "stream",
     "text": [
      "Please, enter a string and I will print out in reverse order : Hi, How are you?\n",
      "Your string in reverse order is: ? u o y   e r a   w o H   , i H \n",
      "Your string has  16 characters\n"
     ]
    }
   ],
   "source": [
    "'''\n",
    "\n",
    " Fernando Tapia Tinoco \n",
    " 3/13/2019\n",
    " Python 1 - DAT-119 - Spring 2019\n",
    " Assignment # 5.1\n",
    "     program that takes in a string from the user. Output the string in reverse, \n",
    "     and tell them how many characters are in it.\n",
    "\n",
    "'''\n",
    "#Input string from the user.\n",
    "first_line = input(\"Please, enter a string and I will print out in reverse order : \")\n",
    "print(\"Your string in reverse order is: \",end=\"\")\n",
    "#Loop\n",
    "for number in range(len(first_line),0,-1): # Backward loop starting at the max number of characters based on input\n",
    "    print(first_line[number-1], end =\" \") #print character based on loop position\n",
    "    #print(number-1,\": \",first_line,sep=\"\")\n",
    "    #print (number-1)\n",
    "print (\"\\nYour string has \",len(first_line),\"characters\") #Print total number of characters\n"
   ]
  },
  {
   "cell_type": "markdown",
   "metadata": {},
   "source": [
    "2) Write a program that uses nested loops to draw this pattern:\n",
    "\n",
    "\n",
    "\\*\\*\\*\\*\\*\\*\\*<br>\n",
    "\\*\\*\\*\\*\\*\\*<br>\n",
    "\\*\\*\\*\\*\\*<br>\n",
    "\\*\\*\\*\\*<br>\n",
    "\\*\\*\\*<br>\n",
    "\\*\\*<br>\n",
    "\\*<br>\n",
    "\n",
    "\n",
    "## Pseudocode\n",
    "\n",
    "    1. Assign the max number of asterisks to a variable\n",
    "    2. Start a loop that goes from 0 to the max number of asterisks\n",
    "    3. Nested loop until the number of asterisks minus one\n",
    "    4. print asterisks\n",
    "    5. every line print a break line"
   ]
  },
  {
   "cell_type": "code",
   "execution_count": 1,
   "metadata": {},
   "outputs": [
    {
     "name": "stdout",
     "output_type": "stream",
     "text": [
      "*******\n",
      "******\n",
      "*****\n",
      "****\n",
      "***\n",
      "**\n",
      "*\n"
     ]
    }
   ],
   "source": [
    "'''\n",
    "\n",
    " Fernando Tapia Tinoco \n",
    " 3/13/2019\n",
    " Python 1 - DAT-119 - Spring 2019\n",
    " Assignment # 5.2\n",
    "     program that asks whether any members of your party are vegetarian, vegan, \n",
    "     or gluten-free, and have it display only the restaurants to which you can take \n",
    "     the whole group.\n",
    "\n",
    "'''\n",
    "limit = 7 # Max number of asterisks\n",
    "for number in range(limit): #Loop for each line\n",
    "    for number2 in range (limit-number): #Loop for number of asterisks per line\n",
    "        print(\"*\",end=\"\") #end with empty space to avoid break line every interaction\n",
    "    print (\"\") #print an empty space to start new line\n"
   ]
  },
  {
   "cell_type": "markdown",
   "metadata": {},
   "source": [
    "3. Short Answer questions:\n",
    "    - How do functions help you to reuse code in a program?\n",
    "        - If a specific operation is performed in several places in a program, a function can be written once to perform that operation, then be executed any time it is needed.\n",
    "        \n",
    "    - Name and describe the two parts of a function definition.\n",
    "        - function header.-It marks the beginning of the function definition.\n",
    "        - block.- A set of statements that belong together as a group.\n",
    "        \n",
    "    - When a function is executing, what happens when the end of the function block is reached?\n",
    "        - When the end of the block is reached, the interpreter jumps back to the part of the program that called the function.\n",
    "    - Why do global variables make a program difficult to debug?\n",
    "        - Any statement in a program file can change the value of a global variable. If happens to have a wrong value in the middle of the program tryng to track down the issue between thousands of lines could be really difficult."
   ]
  },
  {
   "cell_type": "code",
   "execution_count": null,
   "metadata": {},
   "outputs": [],
   "source": []
  }
 ],
 "metadata": {
  "kernelspec": {
   "display_name": "Python 3",
   "language": "python",
   "name": "python3"
  },
  "language_info": {
   "codemirror_mode": {
    "name": "ipython",
    "version": 3
   },
   "file_extension": ".py",
   "mimetype": "text/x-python",
   "name": "python",
   "nbconvert_exporter": "python",
   "pygments_lexer": "ipython3",
   "version": "3.7.1"
  }
 },
 "nbformat": 4,
 "nbformat_minor": 2
}
