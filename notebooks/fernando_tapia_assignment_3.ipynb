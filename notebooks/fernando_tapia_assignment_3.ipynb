{
 "cells": [
  {
   "cell_type": "markdown",
   "metadata": {},
   "source": [
    "# Assignment # 3\n",
    "\n",
    "1. Short Answer questions:\n",
    "    - You need to test a condition then execute one set of statements if the condition is true. If the condition is false, you need to execute a different set of statements. What structure will you use?\n",
    "\n",
    "         if (condition):\n",
    "            statements\n",
    "         else:\n",
    "            statements\n",
    " \n",
    "    - Briefly describe how the and operator works.<br>\n",
    "        With the and operator, the two conditions on each side of the operator should we true for the if statement to execute.\n",
    "        \n",
    "    - Briefly describe how the or operator works.<br> \n",
    "        In this case if one of the two conditions is set to true, then the if statements will execute\n",
    "\n",
    "\n",
    "2. Write a program that asks the user for three grades, averages them, and outputs the average grade."
   ]
  },
  {
   "cell_type": "markdown",
   "metadata": {},
   "source": [
    "<img src=\"flowchart_average_fernando_tapia.png\" alt=\"flow chart\" style=\"width: 400px;\"/>"
   ]
  },
  {
   "cell_type": "code",
   "execution_count": 1,
   "metadata": {},
   "outputs": [
    {
     "name": "stdout",
     "output_type": "stream",
     "text": [
      "Insert first grade: 34\n",
      "Insert second grade: 23\n",
      "Insert third grade: 23\n",
      "The average of 34.0 , 23.0 , and 23.0 is :26.67\n"
     ]
    }
   ],
   "source": [
    "'''\n",
    "\n",
    " Fernando Tapia Tinoco \n",
    " 2/27/2019\n",
    " Python 1 - DAT-119 - Spring 2019\n",
    " Assignment # 3\n",
    "     program that asks the user for three grades, averages them, and outputs \n",
    "     the average grade.\n",
    "\n",
    "'''\n",
    "# Input the grades\n",
    "first_grade=input(\"Insert first grade: \")\n",
    "second_grade=input(\"Insert second grade: \")\n",
    "third_grade=input(\"Insert third grade: \")\n",
    "\n",
    "# Casting the input as float\n",
    "first_grade = float(first_grade) \n",
    "second_grade = float(second_grade) \n",
    "third_grade = float(third_grade) \n",
    "\n",
    "sum = first_grade + second_grade + third_grade # Add all grades\n",
    "avg= sum / 3 #Calculate average\n",
    "\n",
    "#Display result\n",
    "print (\"The average of\", first_grade,\",\",second_grade,\", and\", third_grade,f'is :{avg:.2f}')\n"
   ]
  },
  {
   "cell_type": "markdown",
   "metadata": {},
   "source": [
    "3. Write a tip calculator. Have the user enter the price of the bill, and your program should tell them their total for a 10%, 15%, and 20% tip"
   ]
  },
  {
   "cell_type": "markdown",
   "metadata": {},
   "source": [
    "## Pseudocode\n",
    "\n",
    "    1. Get input from user\n",
    "    2. Cast the input as a float and assign to a bill variable\n",
    "    3. Define a ten_percent variable and assign the product of input times 10 divided by 100\n",
    "    4. Define a fifteen_percent variable and assign the product of input times 15 divided by 100\n",
    "    5. Define a twenty_percent variable and assign the product of input times 20 divided by 100\n",
    "    6. Display the results to the user"
   ]
  },
  {
   "cell_type": "code",
   "execution_count": 2,
   "metadata": {},
   "outputs": [
    {
     "name": "stdout",
     "output_type": "stream",
     "text": [
      "Insert the bill amount: 23.34\n",
      "The tip options for a 23.34 bill are :\n",
      "Ten percent (10%)--> 2.33\n",
      "Fifteen percent(15%)--> 3.50\n",
      "Twenty percent (20%)--> 4.67\n"
     ]
    }
   ],
   "source": [
    "'''\n",
    "\n",
    " Fernando Tapia Tinoco \n",
    " 2/27/2019\n",
    " Python 1 - DAT-119 - Spring 2019\n",
    " Assignment # 3\n",
    "     program that asks the user to enter the price of the bill, and the program output \n",
    "     the total for a 10%, 15%, and 20% tip.\n",
    "\n",
    "'''\n",
    "# Input the Bill\n",
    "bill=input(\"Insert the bill amount: \")\n",
    "# Casting the input as float\n",
    "bill=float(bill)\n",
    "# Calculate percentages\n",
    "ten_percent = bill * 10 / 100\n",
    "fifteen_percent = bill * 15 / 100\n",
    "twenty_percent = bill * 20 / 100\n",
    "#Display results\n",
    "print (\"The tip options for a\",bill,\"bill are :\")\n",
    "print (\"Ten percent (10%)-->\",f\"{ten_percent:.2f}\")\n",
    "print (\"Fifteen percent(15%)-->\",f\"{fifteen_percent:.2f}\")\n",
    "print (\"Twenty percent (20%)-->\",f\"{twenty_percent:.2f}\")\n"
   ]
  },
  {
   "cell_type": "code",
   "execution_count": null,
   "metadata": {},
   "outputs": [],
   "source": []
  }
 ],
 "metadata": {
  "kernelspec": {
   "display_name": "Python 3",
   "language": "python",
   "name": "python3"
  },
  "language_info": {
   "codemirror_mode": {
    "name": "ipython",
    "version": 3
   },
   "file_extension": ".py",
   "mimetype": "text/x-python",
   "name": "python",
   "nbconvert_exporter": "python",
   "pygments_lexer": "ipython3",
   "version": "3.7.1"
  }
 },
 "nbformat": 4,
 "nbformat_minor": 2
}
