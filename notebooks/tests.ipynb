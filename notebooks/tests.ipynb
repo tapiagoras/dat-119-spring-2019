{
 "cells": [
  {
   "cell_type": "code",
   "execution_count": null,
   "metadata": {},
   "outputs": [],
   "source": [
    "first_line = input(\"Enter a string: \")\n",
    "for number in range(len(first_line),0,-1):\n",
    "    print(first_line[number-1], end =\" \")\n",
    "    #print(number-1,\": \",first_line,sep=\"\")\n",
    "    #print (number-1)\n",
    "print (len(first_line))"
   ]
  },
  {
   "cell_type": "code",
   "execution_count": null,
   "metadata": {},
   "outputs": [],
   "source": [
    "for number in range(7):\n",
    "    for number2 in range (7-number):\n",
    "        print(\"*\",end=\"\")\n",
    "    print (\"\")"
   ]
  },
  {
   "cell_type": "markdown",
   "metadata": {},
   "source": [
    "import random\n",
    "define two variables to hold computer random number and user input\n",
    "generate random number\n",
    "get user input\n",
    "\n",
    "validate the input of the user\n",
    "define a function to compare values and generate winner\n",
    "inside a while loop keep generating a random number and asking for input until there is a winner\n",
    "end"
   ]
  },
  {
   "cell_type": "code",
   "execution_count": null,
   "metadata": {},
   "outputs": [],
   "source": [
    "#imports\n",
    "import random\n",
    "#functions\n",
    "def rock_paper_scissors(human):\n",
    "    x=\"winner\"\n",
    "    return x\n",
    "\n",
    "\n",
    "# here we define our main code block\n",
    "def main():\n",
    "    print(\"Welcome to Rock, Paper, Scissors GAME!!!\")\n",
    "    print(\"I am thinking!!!!\")\n",
    "    computer = random.randint(0, 2) # Generate random computer number\n",
    "    print(\"Your options are:\\n - Rock \\n - Paper \\n - Scissors\")\n",
    "    \n",
    "    input_validation = False\n",
    "    \n",
    "    while (!input_validation):\n",
    "        human = input (\"Could you please choose one? :\")\n",
    "        if 'Rock' in human or 'rock' in human or 'Paper' in human or 'paper' in human or 'Scissors' in human or 'scissors' in human:\n",
    "        input_validation = True\n",
    "    \n",
    "    \n",
    "\n",
    "# and we run it with this incantation\n",
    "if __name__ == \"__main__\":\n",
    "    main()"
   ]
  },
  {
   "cell_type": "code",
   "execution_count": 36,
   "metadata": {},
   "outputs": [
    {
     "name": "stdout",
     "output_type": "stream",
     "text": [
      "76\n"
     ]
    }
   ],
   "source": [
    "import random\n",
    "print(int(random.random() * 100))"
   ]
  },
  {
   "cell_type": "code",
   "execution_count": 33,
   "metadata": {},
   "outputs": [],
   "source": [
    "numbers = [1, 2, 3, 4, 5, 6, 7]"
   ]
  },
  {
   "cell_type": "code",
   "execution_count": 34,
   "metadata": {},
   "outputs": [
    {
     "ename": "ValueError",
     "evalue": "50 is not in list",
     "output_type": "error",
     "traceback": [
      "\u001b[0;31m---------------------------------------------------------------------------\u001b[0m",
      "\u001b[0;31mValueError\u001b[0m                                Traceback (most recent call last)",
      "\u001b[0;32m<ipython-input-34-d1e775003f7e>\u001b[0m in \u001b[0;36m<module>\u001b[0;34m\u001b[0m\n\u001b[0;32m----> 1\u001b[0;31m \u001b[0mnumbers\u001b[0m\u001b[0;34m.\u001b[0m\u001b[0mindex\u001b[0m\u001b[0;34m(\u001b[0m\u001b[0;36m50\u001b[0m\u001b[0;34m)\u001b[0m\u001b[0;34m\u001b[0m\u001b[0;34m\u001b[0m\u001b[0m\n\u001b[0m",
      "\u001b[0;31mValueError\u001b[0m: 50 is not in list"
     ]
    }
   ],
   "source": [
    "numbers.index(50)"
   ]
  },
  {
   "cell_type": "code",
   "execution_count": 35,
   "metadata": {},
   "outputs": [
    {
     "name": "stdout",
     "output_type": "stream",
     "text": [
      "[6, 7]\n"
     ]
    }
   ],
   "source": [
    "print(numbers[5:])\n"
   ]
  },
  {
   "cell_type": "code",
   "execution_count": 25,
   "metadata": {},
   "outputs": [
    {
     "data": {
      "text/plain": [
       "5"
      ]
     },
     "execution_count": 25,
     "metadata": {},
     "output_type": "execute_result"
    }
   ],
   "source": [
    "len(numbers)"
   ]
  },
  {
   "cell_type": "code",
   "execution_count": null,
   "metadata": {},
   "outputs": [],
   "source": []
  }
 ],
 "metadata": {
  "kernelspec": {
   "display_name": "Python 3",
   "language": "python",
   "name": "python3"
  },
  "language_info": {
   "codemirror_mode": {
    "name": "ipython",
    "version": 3
   },
   "file_extension": ".py",
   "mimetype": "text/x-python",
   "name": "python",
   "nbconvert_exporter": "python",
   "pygments_lexer": "ipython3",
   "version": "3.7.1"
  }
 },
 "nbformat": 4,
 "nbformat_minor": 2
}
