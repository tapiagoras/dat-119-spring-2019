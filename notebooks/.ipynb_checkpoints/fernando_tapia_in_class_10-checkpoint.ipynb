{
 "cells": [
  {
   "cell_type": "markdown",
   "metadata": {},
   "source": [
    "# In Class Assignment # 10\n",
    "\n",
    "- first replace space with empty space\n",
    "    >WasitacatIsaw\n",
    "- Upper case\n",
    "    >WASITACATISAW\n",
    "- then divide the string by 2 using slice\n",
    "    >WASITAC<br>\n",
    "    >ATISAW\n",
    "- reverse second string\n",
    "    >WASITA\n",
    "- compare the first half with the second half\n",
    "- if comparation is true then is a palindromo"
   ]
  },
  {
   "cell_type": "code",
   "execution_count": 57,
   "metadata": {},
   "outputs": [
    {
     "name": "stdout",
     "output_type": "stream",
     "text": [
      "Please insert a phrase and I will check if it is a palindrome: Are we not pure? \"No sir!\" Panama's moody Noriega brags. \"It is garbage!\" Irony dooms a man; a prisoner up to new era.\n",
      "AREWENOTPURENOSIRPANAMASMOODYNORIEGABRAGSITISGARBAGEIRONYDOOMSAMANAPRISONERUPTONEWERA\n",
      "Are we not pure? \"No sir!\" Panama's moody Noriega brags. \"It is garbage!\" Irony dooms a man; a prisoner up to new era. is a Palindrome\n"
     ]
    }
   ],
   "source": [
    "import string\n",
    "\n",
    "#Was it a cat I saw\n",
    "#Are we not pure? \"No sir!\" Panama's moody Noriega brags. \"It is garbage!\" Irony dooms a man; a prisoner up to new era.\n",
    "user_input = input (\"Please insert a phrase and I will check if it is a palindrome: \")\n",
    "\n",
    "user_input_clean = user_input.replace(\" \", \"\").upper()\n",
    "\n",
    "for symbol in string.punctuation:\n",
    "    if symbol in user_input_clean:\n",
    "        user_input_clean = user_input_clean.replace(symbol,\"\")\n",
    "\n",
    "string_size = (len(user_input_clean))\n",
    "print (user_input_clean)\n",
    "\n",
    "first_half_string = user_input_clean[:int(string_size/2)]\n",
    "second_half_string = user_input_clean[-int(string_size/2):]\n",
    "\n",
    "second_half_string = second_half_string[::-1]\n",
    "\n",
    "if (first_half_string == second_half_string):\n",
    "    print(user_input,\"is a Palindrome\")\n",
    "else:\n",
    "    print(user_input,\"is Not a palindrome\")\n",
    "    \n",
    "        "
   ]
  },
  {
   "cell_type": "markdown",
   "metadata": {},
   "source": [
    "## CODE\n",
    "I’ve given you a file, prejudice.txt, and I’d like you to write a Python script that counts the vowels (“a”, “e”, “i”, “o”, and “u”) in it. You can just output your counts to the console; you don’t need to write a new file for them. Remember to follow the style guide, which includes helpful output to the user.  \n",
    "\n",
    "- Read the file and assign the content to a file object\n",
    "- Separate the object in lines and assign this to a list\n",
    "- Use a function to evaluate each word and compare with a list of vowels\n",
    "- Assign a counter to a list that holds the number of times a vowel was repeated\n",
    "- Display info to the user. \n"
   ]
  },
  {
   "cell_type": "code",
   "execution_count": null,
   "metadata": {},
   "outputs": [],
   "source": [
    "vowels=[\"a\",\"e\",\"i\",\"o\", \"u\"]\n",
    "vowels_count=[0,0,0,0,0]\n",
    "\n",
    "def sum_of_vowels_per_vowel():\n",
    "    \n",
    "\n",
    "    return 0\n",
    "\n",
    "\n",
    "\n",
    "def main():\n",
    "    prejudice_file_object = open(\"prejudice.txt\", 'r')\n",
    "    prejudice_lines = prejudice_file_object.readlines()\n",
    "    \n",
    "    vowels_count = sum_of_vowels_per_vowel(prejudice_lines)\n",
    "    \n",
    "    prejudice_file_object.close()\n",
    "\n",
    "if __name__ == \"__main__\":\n",
    "\tmain()\n",
    "\n"
   ]
  }
 ],
 "metadata": {
  "kernelspec": {
   "display_name": "Python 3",
   "language": "python",
   "name": "python3"
  },
  "language_info": {
   "codemirror_mode": {
    "name": "ipython",
    "version": 3
   },
   "file_extension": ".py",
   "mimetype": "text/x-python",
   "name": "python",
   "nbconvert_exporter": "python",
   "pygments_lexer": "ipython3",
   "version": "3.7.1"
  }
 },
 "nbformat": 4,
 "nbformat_minor": 2
}
