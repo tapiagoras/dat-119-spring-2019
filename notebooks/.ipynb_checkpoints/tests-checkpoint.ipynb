{
 "cells": [
  {
   "cell_type": "code",
   "execution_count": 1,
   "metadata": {},
   "outputs": [
    {
     "name": "stdout",
     "output_type": "stream",
     "text": [
      "Enter a string: DS\n",
      "S D 2\n"
     ]
    }
   ],
   "source": [
    "first_line = input(\"Enter a string: \")\n",
    "for number in range(len(first_line),0,-1):\n",
    "    print(first_line[number-1], end =\" \")\n",
    "    #print(number-1,\": \",first_line,sep=\"\")\n",
    "    #print (number-1)\n",
    "print (len(first_line))"
   ]
  },
  {
   "cell_type": "code",
   "execution_count": 2,
   "metadata": {},
   "outputs": [
    {
     "name": "stdout",
     "output_type": "stream",
     "text": [
      "*******\n",
      "******\n",
      "*****\n",
      "****\n",
      "***\n",
      "**\n",
      "*\n"
     ]
    }
   ],
   "source": [
    "for number in range(7):\n",
    "    for number2 in range (7-number):\n",
    "        print(\"*\",end=\"\")\n",
    "    print (\"\")"
   ]
  },
  {
   "cell_type": "markdown",
   "metadata": {},
   "source": [
    "import random\n",
    "define two variables to hold computer random number and user input\n",
    "generate random number\n",
    "get user input\n",
    "\n",
    "validate the input of the user\n",
    "define a function to compare values and generate winner\n",
    "inside a while loop keep generating a random number and asking for input until there is a winner\n",
    "end"
   ]
  },
  {
   "cell_type": "code",
   "execution_count": 3,
   "metadata": {},
   "outputs": [
    {
     "ename": "SyntaxError",
     "evalue": "invalid syntax (<ipython-input-3-f90d9017a4b1>, line 18)",
     "output_type": "error",
     "traceback": [
      "\u001b[0;36m  File \u001b[0;32m\"<ipython-input-3-f90d9017a4b1>\"\u001b[0;36m, line \u001b[0;32m18\u001b[0m\n\u001b[0;31m    while (!input_validation):\u001b[0m\n\u001b[0m           ^\u001b[0m\n\u001b[0;31mSyntaxError\u001b[0m\u001b[0;31m:\u001b[0m invalid syntax\n"
     ]
    }
   ],
   "source": [
    "#imports\n",
    "import random\n",
    "#functions\n",
    "def rock_paper_scissors(human):\n",
    "    x=\"winner\"\n",
    "    return x\n",
    "\n",
    "\n",
    "# here we define our main code block\n",
    "def main():\n",
    "    print(\"Welcome to Rock, Paper, Scissors GAME!!!\")\n",
    "    print(\"I am thinking!!!!\")\n",
    "    computer = random.randint(0, 2) # Generate random computer number\n",
    "    print(\"Your options are:\\n - Rock \\n - Paper \\n - Scissors\")\n",
    "    \n",
    "    input_validation = False\n",
    "    \n",
    "    while (!input_validation):\n",
    "        human = input (\"Could you please choose one? :\")\n",
    "        if 'Rock' in human or 'rock' in human or 'Paper' in human or 'paper' in human or 'Scissors' in human or 'scissors' in human:\n",
    "        input_validation = True\n",
    "    \n",
    "    \n",
    "\n",
    "# and we run it with this incantation\n",
    "if __name__ == \"__main__\":\n",
    "    main()"
   ]
  },
  {
   "cell_type": "code",
   "execution_count": null,
   "metadata": {},
   "outputs": [],
   "source": [
    "import random\n",
    "print(int(random.random() * 100))"
   ]
  },
  {
   "cell_type": "code",
   "execution_count": null,
   "metadata": {},
   "outputs": [],
   "source": [
    "numbers = [1, 2, 3, 4, 5, 6, 7]"
   ]
  },
  {
   "cell_type": "code",
   "execution_count": null,
   "metadata": {},
   "outputs": [],
   "source": [
    "numbers.index(50)"
   ]
  },
  {
   "cell_type": "code",
   "execution_count": null,
   "metadata": {},
   "outputs": [],
   "source": [
    "print(numbers[5:])\n"
   ]
  },
  {
   "cell_type": "code",
   "execution_count": null,
   "metadata": {},
   "outputs": [],
   "source": [
    "len(numbers)"
   ]
  },
  {
   "cell_type": "markdown",
   "metadata": {},
   "source": [
    "open file\n",
    "Get each line of the poem\n",
    "\n",
    "create a new file\n",
    "\n",
    "check if first letter of each word is a vowel.\n",
    "check if the same letter is capitalized.\n",
    "\n",
    "If is capitalized keep the same capitalizatión for the second letter. Move the first latter to the last position and add ay (If is vowel don¡t move)\n",
    "add letter to the poem\n",
    "\n",
    "Check breakline\n",
    "\n",
    "\n",
    "\n"
   ]
  },
  {
   "cell_type": "code",
   "execution_count": 48,
   "metadata": {},
   "outputs": [
    {
     "name": "stdout",
     "output_type": "stream",
     "text": [
      "Enter a string: A quick brown fox jumps over the lazy dog\n",
      "{'a': 2, 'b': 1, 'c': 1, 'd': 1, 'e': 2, 'f': 1, 'g': 1, 'h': 1, 'i': 1, 'j': 1, 'k': 1, 'l': 1, 'm': 1, 'n': 1, 'o': 4, 'p': 1, 'q': 1, 'r': 2, 's': 1, 't': 1, 'u': 2, 'v': 1, 'w': 1, 'x': 1, 'y': 1, 'z': 1}\n",
      "a : 2 b : 1\n",
      "c : 1 d : 1\n",
      "e : 2 f : 1\n",
      "g : 1 h : 1\n",
      "i : 1 j : 1\n",
      "k : 1 l : 1\n",
      "m : 1 n : 1\n",
      "o : 4 p : 1\n",
      "q : 1 r : 2\n",
      "s : 1 t : 1\n",
      "u : 2 v : 1\n",
      "w : 1 x : 1\n",
      "y : 1 z : 1\n"
     ]
    }
   ],
   "source": [
    "import string\n",
    "user_input = input(\"Enter a string: \")\n",
    "user_input = user_input.replace(\" \", \"\").lower()\n",
    "user_input = list(user_input)\n",
    "user_input.sort()\n",
    "clean_word = []#this list will hold every word without punctuation\n",
    "for character in user_input:\n",
    "    if character not in string.punctuation:#this will check every letter to create a \n",
    "        clean_word.append(character)\n",
    "clean_word = \"\".join(clean_word)\n",
    "\n",
    "char_dct = {}\n",
    "for i in clean_word:\n",
    "    char_dct [i] = clean_word.count(i)\n",
    "#print (char_dct)\n",
    "count = 1\n",
    "for key, value in char_dct.items():\n",
    "    \n",
    "    if count > 1:\n",
    "        print(key, \":\", value)\n",
    "        count = 1\n",
    "    else :\n",
    "        print(key, \":\", value,end=\" \")\n",
    "        count = count +1\n",
    "\n"
   ]
  },
  {
   "cell_type": "code",
   "execution_count": null,
   "metadata": {},
   "outputs": [],
   "source": []
  }
 ],
 "metadata": {
  "kernelspec": {
   "display_name": "Python 3",
   "language": "python",
   "name": "python3"
  },
  "language_info": {
   "codemirror_mode": {
    "name": "ipython",
    "version": 3
   },
   "file_extension": ".py",
   "mimetype": "text/x-python",
   "name": "python",
   "nbconvert_exporter": "python",
   "pygments_lexer": "ipython3",
   "version": "3.7.1"
  }
 },
 "nbformat": 4,
 "nbformat_minor": 2
}
