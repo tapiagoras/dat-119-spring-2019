{
 "cells": [
  {
   "cell_type": "code",
   "execution_count": 10,
   "metadata": {},
   "outputs": [],
   "source": [
    "the_raven_file_object = open(\"the_raven.txt\", 'r')\n",
    "\n",
    "lines = the_raven_file_object.readlines()\n",
    "\n",
    "\n",
    "    # these endlines have to go\n",
    "    \n",
    "    \n",
    "\n",
    "the_raven_file_object.close()\n",
    "\n",
    "my_file_object = open(\"raven_abbreviated.txt\", \"w\")\n",
    "#range(start, stop, step) \n",
    "\n",
    "for line in range(0,len(lines),3):\n",
    "    \n",
    "    my_file_object.write(lines[line])\n",
    "\n",
    "# always close your files\n",
    "\n",
    "my_file_object.close()\n",
    "\n",
    "# now go look at the file\n",
    "\n",
    "\n"
   ]
  },
  {
   "cell_type": "markdown",
   "metadata": {},
   "source": [
    "- prepare a list with the total of days per month\n",
    "- make another list to store the number of days related to each month\n",
    "- read the file and store the elements\n",
    "- define a function to go over the numbers of days of each month and display the sum of steps\n",
    "- end\n"
   ]
  },
  {
   "cell_type": "code",
   "execution_count": 61,
   "metadata": {},
   "outputs": [],
   "source": [
    "months=[\"January\",\"February\",\"March\",\"April\", \"May\",\"June\",\"July\", \n",
    "        \"August\",\"September\",\"October\",\"November\",\"December\"]\n",
    "days_of_months=[31,28,31,30,31,30,31,31,30,31,30,31]\n",
    "\n",
    "def sum_of_steps_per_month(my_file_object,month,steps,start):\n",
    "    \n",
    "    sum_of_steps = 0\n",
    "    \n",
    "    days=days_of_months[months.index(month)]\n",
    "    for day in range(start, days + start):\n",
    "        sum_of_steps = sum_of_steps + steps[day]\n",
    "    avg_of_steps = sum_of_steps / days\n",
    "    line=month+\"\\t\\t\\t\"+f'{avg_of_steps:.1f}'\n",
    "    my_file_object.write(line + '\\n')\n",
    "    return start + days\n",
    "\n",
    "\n",
    "def main():\n",
    "    \n",
    "    steps_file_object = open(\"steps.txt\", 'r')\n",
    "    steps = steps_file_object.readlines()\n",
    "    \n",
    "    # ok, let's make them into actual numbers\n",
    "    for index in range(len(steps)):\n",
    "        # these endlines have to go\n",
    "        steps[index] = steps[index].rstrip('\\n')\n",
    "        # now we can cast them to integers\n",
    "        steps[index] = int(steps[index])\n",
    "        \n",
    "    steps_file_object.close()\n",
    "    start = 0\n",
    "    my_file_object = open(\"step_averages.txt\", \"w\")\n",
    "    my_file_object.write(\"Month\t\tAverage steps taken\\n\")\n",
    "    my_file_object.write(\"------------------------------------------\\n\")\n",
    "    for month in months:\n",
    "        start = sum_of_steps_per_month(my_file_object,month,steps,start)\n",
    "        \n",
    "    # always close your files\n",
    "    my_file_object.close()\n",
    "\n",
    "    \n",
    "\n",
    "if __name__ == \"__main__\":\n",
    "\tmain()\n",
    "\n",
    "\n"
   ]
  },
  {
   "cell_type": "code",
   "execution_count": null,
   "metadata": {},
   "outputs": [],
   "source": []
  }
 ],
 "metadata": {
  "kernelspec": {
   "display_name": "Python 3",
   "language": "python",
   "name": "python3"
  },
  "language_info": {
   "codemirror_mode": {
    "name": "ipython",
    "version": 3
   },
   "file_extension": ".py",
   "mimetype": "text/x-python",
   "name": "python",
   "nbconvert_exporter": "python",
   "pygments_lexer": "ipython3",
   "version": "3.7.1"
  }
 },
 "nbformat": 4,
 "nbformat_minor": 2
}
