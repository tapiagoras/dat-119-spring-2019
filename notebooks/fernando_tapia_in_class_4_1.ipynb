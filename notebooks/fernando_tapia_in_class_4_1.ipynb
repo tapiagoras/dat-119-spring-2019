{
 "cells": [
  {
   "cell_type": "markdown",
   "metadata": {},
   "source": [
    "# In Class Assignment # 4 Part 1\n",
    "\n",
    "### Practice # 1\n",
    "\n",
    "Have the user give you a number between 1 and 7. (Remember that input() gives you a string, so you need to cast it into an integer.)\n",
    "Determine which day of the week the number corresponds to. (1 = Monday, 2 = Tuesday, ... 7 = Sunday.)\n",
    "Output the day of the week for them.\n",
    "\n",
    "## Pseudocode\n",
    "\n",
    "    Input:\n",
    "        a number\n",
    "    Output:\n",
    "        a weekday\n",
    "        \n",
    "    Steps:\n",
    "        1. ask user for a number\n",
    "        2. change user's string to integer\n",
    "        3. Check if the entered number is in the interval 1-7\n",
    "        4. chech user's number vs each possibility\n",
    "        5. Output result\n",
    "    "
   ]
  },
  {
   "cell_type": "code",
   "execution_count": 1,
   "metadata": {},
   "outputs": [
    {
     "name": "stdout",
     "output_type": "stream",
     "text": [
      "\n",
      "Insert a number 1-7, and I'll tell you the corresponding day of the week: \n",
      "    6\n",
      "The day # 6 correspond to  Saturday\n"
     ]
    }
   ],
   "source": [
    "'''\n",
    "\n",
    " Fernando Tapia Tinoco \n",
    " 2/27/2019\n",
    " Python 1 - DAT-119 - Spring 2019\n",
    " In class Assignment # 4\n",
    " Practice # 1\n",
    "     Program that asks the user for a number 1-7 and output corresponding day of the week.\n",
    "  \n",
    "\n",
    "'''\n",
    "\n",
    "# Input the number\n",
    "number_of_the_day = int (input('''\n",
    "Insert a number 1-7, and I'll tell you the corresponding day of the week: \n",
    "    '''))\n",
    "\n",
    "\n",
    "# Define variables\n",
    "day_of_the_week = \"\"\n",
    "\n",
    "# Compare values\n",
    "if(number_of_the_day >= 1 and number_of_the_day <= 7):\n",
    "        if number_of_the_day == 1:\n",
    "            day_of_the_week=\"Monday\"\n",
    "        elif number_of_the_day == 2:\n",
    "            day_of_the_week=\"Tuesday\" \n",
    "        elif number_of_the_day == 3:\n",
    "            day_of_the_week=\"Wednesday\" \n",
    "        elif number_of_the_day == 4:\n",
    "            day_of_the_week=\"Thursday\" \n",
    "        elif number_of_the_day == 5:\n",
    "            day_of_the_week=\"Friday\" \n",
    "        elif number_of_the_day == 6:\n",
    "            day_of_the_week=\"Saturday\"\n",
    "        else :\n",
    "            day_of_the_week=\"Sunday\"\n",
    "        # Output the result\n",
    "        print (\"The day #\",number_of_the_day,\"correspond to \", day_of_the_week)\n",
    "else:\n",
    "    print(\"Insert a number in the interval 1-7\")\n"
   ]
  },
  {
   "cell_type": "markdown",
   "metadata": {},
   "source": [
    "### Practice # 2\n",
    "\n",
    "Have the user give you an age (remember to cast it to int).\n",
    "\n",
    "Tell the user whether the age represents an infant (up to the age of 1), a child (between the ages of 1 and 13), a teenager (between 13 and 20), or an adult (over the age of 20).\n",
    "\n",
    "## Pseudocode\n",
    "\n",
    "    Input:\n",
    "        a number that represent certain age\n",
    "    Output:\n",
    "        Representation\n",
    "        \n",
    "    Steps:\n",
    "        1. ask user for a number\n",
    "        2. change user's string to float\n",
    "        3. chech user's number vs each possibility\n",
    "        4. Output result"
   ]
  },
  {
   "cell_type": "code",
   "execution_count": 9,
   "metadata": {},
   "outputs": [
    {
     "name": "stdout",
     "output_type": "stream",
     "text": [
      "\n",
      "Insert your age, and I'll tell you what group represent: \n",
      "    2\n",
      "Your age indicated that you are a(an) Child\n"
     ]
    }
   ],
   "source": [
    "'''\n",
    "\n",
    " Fernando Tapia Tinoco \n",
    " 2/27/2019\n",
    " Python 1 - DAT-119 - Spring 2019\n",
    " In class Assignment # 4\n",
    " Practice # 2\n",
    "     Program that asks the user for a number 1-7 and output corresponding day of the week.\n",
    "  \n",
    "\n",
    "'''\n",
    "# Input the age\n",
    "age = float (input('''\n",
    "Insert your age, and I'll tell you what group represent: \n",
    "    '''))\n",
    "# Define variables\n",
    "group = \"\"\n",
    "\n",
    "# Compare values\n",
    "if age >= 0 and age <= 1  :\n",
    "    group = \"Infant\"\n",
    "elif age > 1 and age < 13  :\n",
    "    group = \"Child\"\n",
    "elif age >= 13 and age < 20  :\n",
    "    group = \"Teenager\"\n",
    "elif age >= 20 :\n",
    "    group = \"Adult\"\n",
    "else :\n",
    "    group =\"--ERROR--\"#\n",
    "    \n",
    "# Output the result\n",
    "print (\"Your age indicated that you are a(an)\", group )\n",
    "    "
   ]
  },
  {
   "cell_type": "code",
   "execution_count": null,
   "metadata": {},
   "outputs": [],
   "source": []
  }
 ],
 "metadata": {
  "kernelspec": {
   "display_name": "Python 3",
   "language": "python",
   "name": "python3"
  },
  "language_info": {
   "codemirror_mode": {
    "name": "ipython",
    "version": 3
   },
   "file_extension": ".py",
   "mimetype": "text/x-python",
   "name": "python",
   "nbconvert_exporter": "python",
   "pygments_lexer": "ipython3",
   "version": "3.7.1"
  }
 },
 "nbformat": 4,
 "nbformat_minor": 2
}
