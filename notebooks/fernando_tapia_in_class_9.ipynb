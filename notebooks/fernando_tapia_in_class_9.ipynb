{
 "cells": [
  {
   "cell_type": "code",
   "execution_count": 5,
   "metadata": {},
   "outputs": [
    {
     "name": "stdout",
     "output_type": "stream",
     "text": [
      "[]\n"
     ]
    }
   ],
   "source": [
    "the_raven_file_object = open(\"todo_app_todo.txt\", 'r')\n",
    "\n",
    "lines = the_raven_file_object.readlines()\n",
    "\n",
    "print (lines)\n",
    "    # these endlines have to go\n",
    "    \n",
    "    \n",
    "\n",
    "the_raven_file_object.close()\n",
    "\n",
    "my_file_object = open(\"raven_abbreviated.txt\", \"w\")\n",
    "#range(start, stop, step) \n",
    "\n",
    "for line in range(0,len(lines),3):\n",
    "    \n",
    "    my_file_object.write(lines[line])\n",
    "    print(lines[line])\n",
    "\n",
    "# always close your files\n",
    "\n",
    "my_file_object.close()\n",
    "\n",
    "# now go look at the file\n",
    "\n",
    "\n"
   ]
  },
  {
   "cell_type": "markdown",
   "metadata": {},
   "source": [
    "- prepare a list with the total of days per month\n",
    "- make another list to store the number of days related to each month\n",
    "- read the file and store the elements\n",
    "- define a function to go over the numbers of days of each month and display the sum of steps\n",
    "- end\n"
   ]
  },
  {
   "cell_type": "code",
   "execution_count": 1,
   "metadata": {},
   "outputs": [
    {
     "name": "stdout",
     "output_type": "stream",
     "text": [
      "['1102\\n', '9236\\n', '10643\\n', '2376\\n', '6815\\n', '10394\\n', '3055\\n', '3750\\n', '4181\\n', '5452\\n', '10745\\n', '9896\\n', '255\\n', '9596\\n', '1254\\n', '2669\\n', '1267\\n', '1267\\n', '1327\\n', '10207\\n', '5731\\n', '8435\\n', '640\\n', '5624\\n', '1062\\n', '3946\\n', '3796\\n', '9381\\n', '5945\\n', '10612\\n', '1970\\n', '9035\\n', '1376\\n', '1919\\n', '2868\\n', '5847\\n', '685\\n', '10578\\n', '3477\\n', '3937\\n', '5994\\n', '6971\\n', '3011\\n', '4474\\n', '4344\\n', '8068\\n', '6564\\n', '2659\\n', '4064\\n', '1161\\n', '6830\\n', '5167\\n', '5686\\n', '5352\\n', '898\\n', '4316\\n', '7699\\n', '6406\\n', '6466\\n', '2802\\n', '1239\\n', '8162\\n', '398\\n', '9908\\n', '8251\\n', '8419\\n', '6245\\n', '8484\\n', '9012\\n', '6318\\n', '853\\n', '4031\\n', '868\\n', '8776\\n', '10453\\n', '1026\\n', '1984\\n', '8127\\n', '5274\\n', '6937\\n', '1960\\n', '9655\\n', '1279\\n', '9386\\n', '6697\\n', '6326\\n', '2509\\n', '7127\\n', '7802\\n', '8798\\n', '6564\\n', '7220\\n', '10650\\n', '3847\\n', '7485\\n', '10951\\n', '3883\\n', '9456\\n', '4671\\n', '2067\\n', '6871\\n', '1573\\n', '8746\\n', '7473\\n', '4713\\n', '1215\\n', '8486\\n', '6652\\n', '4054\\n', '10304\\n', '5291\\n', '2680\\n', '9108\\n', '6446\\n', '1581\\n', '7607\\n', '2032\\n', '7630\\n', '1106\\n', '3702\\n', '986\\n', '8602\\n', '556\\n', '2209\\n', '3055\\n', '886\\n', '5813\\n', '6513\\n', '3154\\n', '1534\\n', '6271\\n', '611\\n', '4001\\n', '6522\\n', '3819\\n', '8396\\n', '2364\\n', '9660\\n', '5937\\n', '2506\\n', '9002\\n', '8586\\n', '8805\\n', '552\\n', '5802\\n', '7825\\n', '5610\\n', '8169\\n', '602\\n', '5638\\n', '2072\\n', '3536\\n', '5885\\n', '9334\\n', '6393\\n', '9318\\n', '6057\\n', '5812\\n', '5647\\n', '4654\\n', '1880\\n', '634\\n', '3084\\n', '9606\\n', '2287\\n', '3032\\n', '4030\\n', '5627\\n', '1314\\n', '8489\\n', '1601\\n', '8559\\n', '2083\\n', '5520\\n', '1829\\n', '2890\\n', '4533\\n', '3225\\n', '7405\\n', '3985\\n', '5521\\n', '1127\\n', '7109\\n', '8083\\n', '3615\\n', '1475\\n', '2896\\n', '10523\\n', '7108\\n', '797\\n', '8443\\n', '169\\n', '8755\\n', '5761\\n', '9862\\n', '9032\\n', '1659\\n', '10944\\n', '6878\\n', '1253\\n', '4690\\n', '9934\\n', '8820\\n', '41\\n', '9367\\n', '1898\\n', '3554\\n', '10650\\n', '3136\\n', '3574\\n', '9682\\n', '3950\\n', '691\\n', '8247\\n', '6677\\n', '10381\\n', '8879\\n', '8660\\n', '6431\\n', '6030\\n', '365\\n', '10357\\n', '10526\\n', '9245\\n', '5291\\n', '4651\\n', '5741\\n', '800\\n', '540\\n', '6074\\n', '68\\n', '8714\\n', '5095\\n', '4578\\n', '10841\\n', '5805\\n', '6676\\n', '2547\\n', '203\\n', '10988\\n', '604\\n', '9057\\n', '3787\\n', '2397\\n', '10984\\n', '9807\\n', '1703\\n', '6382\\n', '9793\\n', '8592\\n', '1279\\n', '8005\\n', '5297\\n', '7166\\n', '4070\\n', '4252\\n', '606\\n', '6443\\n', '10827\\n', '8140\\n', '5740\\n', '10844\\n', '8834\\n', '3695\\n', '4152\\n', '10662\\n', '8791\\n', '7791\\n', '9940\\n', '831\\n', '2999\\n', '2254\\n', '1161\\n', '808\\n', '4233\\n', '3562\\n', '3301\\n', '1530\\n', '7387\\n', '6425\\n', '9907\\n', '9752\\n', '4533\\n', '7079\\n', '3305\\n', '5286\\n', '4313\\n', '1503\\n', '6501\\n', '8201\\n', '1723\\n', '9501\\n', '9878\\n', '1844\\n', '5976\\n', '6171\\n', '10265\\n', '2607\\n', '10667\\n', '2310\\n', '836\\n', '2618\\n', '9813\\n', '5907\\n', '6849\\n', '470\\n', '8794\\n', '528\\n', '2327\\n', '2200\\n', '237\\n', '618\\n', '4898\\n', '1307\\n', '3212\\n', '1007\\n', '1322\\n', '10409\\n', '6956\\n', '8653\\n', '3462\\n', '3207\\n', '9210\\n', '1309\\n', '4431\\n', '9106\\n', '7737\\n', '1698\\n', '1117\\n', '3826\\n', '5297\\n', '5589\\n', '3199\\n', '9089\\n', '5967\\n', '3156\\n', '5919\\n', '2855\\n', '5985\\n', '1780\\n', '6267\\n', '6303\\n', '9855\\n', '3843\\n', '1816\\n', '2876\\n', '5973\\n', '2888\\n', '709\\n', '6509\\n', '4320\\n', '10342\\n', '2616\\n', '4887\\n', '10470\\n', '6084\\n', '4573\\n', '2457\\n', '10205\\n', '4627\\n', '7927\\n', '1703\\n', '5034\\n', '7042\\n', '4292']\n"
     ]
    }
   ],
   "source": [
    "months=[\"January\",\"February\",\"March\",\"April\", \"May\",\"June\",\"July\", \n",
    "        \"August\",\"September\",\"October\",\"November\",\"December\"]\n",
    "days_of_months=[31,28,31,30,31,30,31,31,30,31,30,31]\n",
    "\n",
    "def sum_of_steps_per_month(my_file_object,month,steps,start):\n",
    "    \n",
    "    sum_of_steps = 0\n",
    "    \n",
    "    days=days_of_months[months.index(month)]\n",
    "    for day in range(start, days + start):\n",
    "        sum_of_steps = sum_of_steps + steps[day]\n",
    "    avg_of_steps = sum_of_steps / days\n",
    "    line=month+\"\\t\\t\\t\"+f'{avg_of_steps:.1f}'\n",
    "    my_file_object.write(line + '\\n')\n",
    "    return start + days\n",
    "\n",
    "\n",
    "def main():\n",
    "    \n",
    "    steps_file_object = open(\"steps.txt\", 'r')\n",
    "    steps = steps_file_object.readlines()\n",
    "    print(steps)\n",
    "    # ok, let's make them into actual numbers\n",
    "    for index in range(len(steps)):\n",
    "        # these endlines have to go\n",
    "        steps[index] = steps[index].rstrip('\\n')\n",
    "        # now we can cast them to integers\n",
    "        steps[index] = int(steps[index])\n",
    "        \n",
    "        \n",
    "    steps_file_object.close()\n",
    "    start = 0\n",
    "    my_file_object = open(\"step_averages.txt\", \"w\")\n",
    "    my_file_object.write(\"Month\t\tAverage steps taken\\n\")\n",
    "    my_file_object.write(\"------------------------------------------\\n\")\n",
    "    for month in months:\n",
    "        start = sum_of_steps_per_month(my_file_object,month,steps,start)\n",
    "        \n",
    "    # always close your files\n",
    "    my_file_object.close()\n",
    "\n",
    "    \n",
    "\n",
    "if __name__ == \"__main__\":\n",
    "\tmain()\n",
    "\n",
    "\n"
   ]
  },
  {
   "cell_type": "code",
   "execution_count": null,
   "metadata": {},
   "outputs": [],
   "source": []
  }
 ],
 "metadata": {
  "kernelspec": {
   "display_name": "Python 3",
   "language": "python",
   "name": "python3"
  },
  "language_info": {
   "codemirror_mode": {
    "name": "ipython",
    "version": 3
   },
   "file_extension": ".py",
   "mimetype": "text/x-python",
   "name": "python",
   "nbconvert_exporter": "python",
   "pygments_lexer": "ipython3",
   "version": "3.7.1"
  }
 },
 "nbformat": 4,
 "nbformat_minor": 2
}
