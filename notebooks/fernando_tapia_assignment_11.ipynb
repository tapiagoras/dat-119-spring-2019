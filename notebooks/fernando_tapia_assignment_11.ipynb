{
 "cells": [
  {
   "cell_type": "markdown",
   "metadata": {},
   "source": [
    "# Assignment # 11\n",
    "\n",
    "1. Program that that gets a sentence input by the user and then uses a dictionary to summarize the number of occurrences of each letter. \n",
    "\n",
    "### Planning Doc\n",
    "\n",
    "    - Get input from user\n",
    "    - write a function to clean the data, lowercase, no space, no punctuation\n",
    "    - return the list orderred alphabeticaly\n",
    "    - fill in the dictionary with the data from the list\n",
    "    - Use the dictionary to display the keys and values\n",
    "\n",
    "\n",
    "### Code"
   ]
  },
  {
   "cell_type": "code",
   "execution_count": 4,
   "metadata": {},
   "outputs": [
    {
     "name": "stdout",
     "output_type": "stream",
     "text": [
      "Give me a sentence, and I'll count the letters:  \n"
     ]
    }
   ],
   "source": [
    "'''\n",
    "\n",
    " Fernando Tapia Tinoco \n",
    " 4/29/2019\n",
    " Python 1 - DAT-119 - Spring 2019\n",
    " Assignment # 11\n",
    "     Program that that gets a sentence input by the user and then uses a dictionary to \n",
    "     summarize the number of occurrences of each letter. \n",
    "\n",
    "'''\n",
    "\n",
    "import string\n",
    "\n",
    "\n",
    "#function \n",
    "#This function will clean the sentence and getting ready to analize the data\n",
    "\n",
    "def clean_sentence(user_input):\n",
    "    \n",
    "    user_input = user_input.replace(\" \", \"\").lower()\n",
    "    \n",
    "    clean_sentence = [] #this list will hold every word without punctuation\n",
    "    \n",
    "    for character in user_input:\n",
    "        if character not in string.punctuation: #this will check every letter to create a \n",
    "            clean_sentence.append(character)\n",
    "    clean_sentence.sort()\n",
    "    clean_sentence = \"\".join(clean_sentence)\n",
    "    \n",
    "    return clean_sentence\n",
    "\n",
    "\n",
    "def main():\n",
    "    user_input = input(\"Give me a sentence, and I'll count the letters:  \")\n",
    "    \n",
    "    sentence_ready = clean_sentence(user_input);\n",
    "    \n",
    "    char_dct = {}\n",
    "    \n",
    "    for letter in sentence_ready:\n",
    "        char_dct [letter] = sentence_ready.count(letter)\n",
    "\n",
    "    count = 1\n",
    "    for key, value in char_dct.items():\n",
    "            if count > 1:\n",
    "                print(key, \":\", value)\n",
    "                count = 1\n",
    "            else :\n",
    "                print(key, \":\", value,end=\"\\t\")\n",
    "                count = count +1\n",
    "\n",
    "\n",
    "if __name__ == \"__main__\":\n",
    "\tmain()\n"
   ]
  },
  {
   "cell_type": "code",
   "execution_count": null,
   "metadata": {},
   "outputs": [],
   "source": []
  }
 ],
 "metadata": {
  "kernelspec": {
   "display_name": "Python 3",
   "language": "python",
   "name": "python3"
  },
  "language_info": {
   "codemirror_mode": {
    "name": "ipython",
    "version": 3
   },
   "file_extension": ".py",
   "mimetype": "text/x-python",
   "name": "python",
   "nbconvert_exporter": "python",
   "pygments_lexer": "ipython3",
   "version": "3.7.1"
  }
 },
 "nbformat": 4,
 "nbformat_minor": 2
}
