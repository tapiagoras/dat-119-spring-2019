{
 "cells": [
  {
   "cell_type": "markdown",
   "metadata": {},
   "source": [
    "# In Class Assignment # 4 Part 2\n",
    "\n",
    "Put together a program that takes in a year from the user and tells them how many days February had in that year\n",
    "\n",
    "    -  There are 28 days in February, unless it is a leap year.\n",
    "\n",
    "    -  If it is a leap year, there are 29 days in February. Leap year criteria, from TimeAndDate.com:\n",
    "\n",
    "        - The year can be evenly divided by 4;\n",
    "        - If the year can be evenly divided by 100, it is NOT a leap year, unless;\n",
    "        - The year is also evenly divisible by 400. Then it is a leap year.\n",
    "\n",
    "\n",
    "## Pseudocode\n",
    "\n",
    "    Input:\n",
    "        a year\n",
    "    Output:\n",
    "        the number of days that February had that year.\n",
    "        \n",
    "    Steps:\n",
    "        1. ask user for a number\n",
    "        2. change user's string to integer\n",
    "        3. Check if the mod of the user's number divided by 100 and by 400 are equal to 0, and the mod of the user's number divided by 100 is not zero and divided by 4 is zero\n",
    "        4. if one or both conditions are true assign february 29 days and go to step 6\n",
    "        5. else assign february 28 days and go to step 6\n",
    "        6. Output Results"
   ]
  },
  {
   "cell_type": "code",
   "execution_count": null,
   "metadata": {},
   "outputs": [],
   "source": [
    "'''\n",
    "\n",
    " Fernando Tapia Tinoco \n",
    " 2/27/2019\n",
    " Python 1 - DAT-119 - Spring 2019\n",
    " In class Assignment # 4 Part 2\n",
    "     program that takes in a year from the user and tells them how many days \n",
    "     February had in that year\n",
    "\n",
    "'''\n",
    "\n",
    "# Input the number\n",
    "year = int (input(\"Insert a year: \"))\n",
    "\n",
    "# Define variables\n",
    "february = 0\n",
    "\n",
    "# Compare values\n",
    "if (year%100 == 0 and year%400 == 0) or (year%100 != 0 and year%4 == 0):\n",
    "        february = 29\n",
    "else :\n",
    "    february = 28\n",
    "    \n",
    "# Output results\n",
    "\n",
    "print (\"In the year\", year,\"February had\", february,\"days.\")\n"
   ]
  },
  {
   "cell_type": "code",
   "execution_count": null,
   "metadata": {},
   "outputs": [],
   "source": []
  }
 ],
 "metadata": {
  "kernelspec": {
   "display_name": "Python 3",
   "language": "python",
   "name": "python3"
  },
  "language_info": {
   "codemirror_mode": {
    "name": "ipython",
    "version": 3
   },
   "file_extension": ".py",
   "mimetype": "text/x-python",
   "name": "python",
   "nbconvert_exporter": "python",
   "pygments_lexer": "ipython3",
   "version": "3.7.1"
  }
 },
 "nbformat": 4,
 "nbformat_minor": 2
}
