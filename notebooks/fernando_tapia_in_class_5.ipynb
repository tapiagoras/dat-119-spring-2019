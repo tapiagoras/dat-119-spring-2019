{
 "cells": [
  {
   "cell_type": "markdown",
   "metadata": {},
   "source": [
    "# In Class Assignment # 5\n",
    "\n",
    "Redo your grading assignment from a couple of weeks ago, but this time with loops!<br>\n",
    "\n",
    "Also, instead of taking in three grades, have it take grades until the user indicates they are finished (using a sentinel value).<br>\n",
    "\n",
    "Your program should only accept valid grades (from 0 to 100).<br>\n",
    "\n",
    "Output the average grade to one decimal place, with a helpful message to the user. (Don’t use round().)"
   ]
  },
  {
   "cell_type": "markdown",
   "metadata": {},
   "source": [
    "## Pseudocode\n",
    "\n",
    "1. Initialize counter variable \n",
    "2. Initialize accumulative variable\n",
    "3. Get initial input from user\n",
    "4. Loop Start and evaluate if the user input is different than the sentinel value\n",
    "5. Evaluate user input between 0 and 100\n",
    "6. Inside the loop increment counter\n",
    "7. Inside the loop add to the accumulative variable the user input\n",
    "8. Average the total input by the counter\n",
    "9. Display results"
   ]
  },
  {
   "cell_type": "code",
   "execution_count": 6,
   "metadata": {},
   "outputs": [
    {
     "name": "stdout",
     "output_type": "stream",
     "text": [
      "Please, Enter numerical grades between 0 and 100 to average them.\n",
      "If you want to stop please introduce END : -2\n",
      "Please, Enter numerical grades between 0 and 100 : 200\n",
      "Please, Enter numerical grades between 0 and 100 : 2\n",
      "Please, Enter numerical grades between 0 and 100 to average them.\n",
      "If you want to stop please introduce END : -3\n",
      "Please, Enter numerical grades between 0 and 100 : 4\n",
      "Please, Enter numerical grades between 0 and 100 to average them.\n",
      "If you want to stop please introduce END : 5\n",
      "Please, Enter numerical grades between 0 and 100 to average them.\n",
      "If you want to stop please introduce END : end\n",
      "The average of your 3 grades is 3.7\n"
     ]
    }
   ],
   "source": [
    "'''\n",
    "\n",
    " Fernando Tapia Tinoco \n",
    " 3/06/2019\n",
    " Python 1 - DAT-119 - Spring 2019\n",
    "In Class Assignment # 5\n",
    "    program that asks the user for multiples grades until the user decide to not enter any other value,\n",
    "    averages them, and outputs the average grade.\n",
    "\n",
    "'''\n",
    "\n",
    "#Initialize variables\n",
    "counter=0;\n",
    "total_grade=0;\n",
    "\n",
    "# Print Instructions to the user\n",
    "\n",
    "input_grade = input('''Please, Enter numerical grades between 0 and 100 to average them.\n",
    "If you want to stop please introduce END : ''')\n",
    "\n",
    "# Loop Start\n",
    "\n",
    "while input_grade!=\"END\" and input_grade!=\"end\":\n",
    "    input_grade = float(input_grade)\n",
    "    # Evaluate user input between 0 and 100\n",
    "    while input_grade < 0 or input_grade > 100 :\n",
    "        input_grade = input(\"Please, Enter numerical grades between 0 and 100 : \")\n",
    "        input_grade = float(input_grade)\n",
    "        \n",
    "    # Increment counter\n",
    "    total_grade = total_grade + input_grade # add the input to the total grade \n",
    "    counter = counter + 1 \n",
    "    input_grade = input('''Please, Enter numerical grades between 0 and 100 to average them.\n",
    "If you want to stop please introduce END : ''')\n",
    "\n",
    "avg= total_grade / counter #Calculate average\n",
    "\n",
    "#Display result\n",
    "print (\"The average of your\",counter,\"grades\",f'is {avg:.1f}')"
   ]
  },
  {
   "cell_type": "code",
   "execution_count": null,
   "metadata": {},
   "outputs": [],
   "source": []
  },
  {
   "cell_type": "code",
   "execution_count": null,
   "metadata": {},
   "outputs": [],
   "source": []
  }
 ],
 "metadata": {
  "kernelspec": {
   "display_name": "Python 3",
   "language": "python",
   "name": "python3"
  },
  "language_info": {
   "codemirror_mode": {
    "name": "ipython",
    "version": 3
   },
   "file_extension": ".py",
   "mimetype": "text/x-python",
   "name": "python",
   "nbconvert_exporter": "python",
   "pygments_lexer": "ipython3",
   "version": "3.7.1"
  }
 },
 "nbformat": 4,
 "nbformat_minor": 2
}
