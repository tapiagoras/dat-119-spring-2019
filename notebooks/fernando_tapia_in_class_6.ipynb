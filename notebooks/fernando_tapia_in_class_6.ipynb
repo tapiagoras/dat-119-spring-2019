{
 "cells": [
  {
   "cell_type": "markdown",
   "metadata": {},
   "source": [
    "# In Class Assignment # 6\n",
    "\n"
   ]
  },
  {
   "cell_type": "markdown",
   "metadata": {},
   "source": [
    "- import random\n",
    "- define two variables to hold computer random number and user input\n",
    "- generate random number\n",
    "- get user input\n",
    "- validate the input of the user\n",
    "- define a function to compare values and generate winner\n",
    "- inside a while loop keep generating a random number and asking for input until there is a winner\n",
    "- print winner"
   ]
  },
  {
   "cell_type": "code",
   "execution_count": 2,
   "metadata": {},
   "outputs": [
    {
     "name": "stdout",
     "output_type": "stream",
     "text": [
      "Welcome to Rock, Paper, Scissors GAME!!!\n",
      "I am thinking!!!!\n",
      "Your options are:\n",
      " - Rock \n",
      " - Paper \n",
      " - Scissors\n",
      "Could you please choose one? :Paper\n",
      "\n",
      "Is a tie, TRY AGAIN!!!\n",
      "\n",
      "Welcome to Rock, Paper, Scissors GAME!!!\n",
      "I am thinking!!!!\n",
      "Your options are:\n",
      " - Rock \n",
      " - Paper \n",
      " - Scissors\n",
      "Could you please choose one? :Scissors\n",
      "Human : SCISSORS\n",
      "Computer : ROCK\n",
      "The winner is Computer\n"
     ]
    }
   ],
   "source": [
    "#imports\n",
    "import random\n",
    "#functions\n",
    "def rock_paper_scissors(human,computer):\n",
    "    \n",
    "    print (\"Human :\", human)\n",
    "    print (\"Computer :\", computer)\n",
    "    winner = \"\"\n",
    "    \n",
    "    if (\"ROCK\" in human and \"SCISSORS\" in computer) or (\"PAPER\" in human and \"ROCK\" in computer) or (\"SCISSORS\" in human and \"PAPER\" in computer):\n",
    "        winner = \"Human\"\n",
    "    elif (\"ROCK\" in human and \"PAPER\" in computer) or (\"PAPER\" in human and \"SCISSORS\" in computer) or (\"SCISSORS\" in human and \"ROCK\" in computer):\n",
    "        winner = \"Computer\"       \n",
    "    return winner\n",
    "\n",
    "def set_word ():\n",
    "    computer = random.randint(0, 2) # Generate random computer number\n",
    "    \n",
    "    if computer == 0 :\n",
    "        computer = \"ROCK\"\n",
    "    elif computer == 1:\n",
    "        computer = \"PAPER\"\n",
    "    else:\n",
    "        computer = \"SCISSORS\"\n",
    "    \n",
    "    #print (computer)\n",
    "    return computer\n",
    "\n",
    "# here we define our main code block\n",
    "def main():\n",
    "    human = \"\"\n",
    "    computer = \"\"\n",
    "    while (human == computer):\n",
    "        print(\"Welcome to Rock, Paper, Scissors GAME!!!\")\n",
    "        print(\"I am thinking!!!!\")\n",
    "    \n",
    "        # Generate random computer choice\n",
    "        computer = set_word()\n",
    "    \n",
    "        print(\"Your options are:\\n - Rock \\n - Paper \\n - Scissors\")\n",
    "    \n",
    "        input_validation = False\n",
    "    \n",
    "        while (not input_validation):\n",
    "            human = input (\"Could you please choose one? :\")\n",
    "            if 'Rock' in human or 'rock' in human or 'Paper' in human or 'paper' in human or 'Scissors' in human or 'scissors' in human:\n",
    "                input_validation = True\n",
    "            human = human.upper()\n",
    "    \n",
    "        if (human == computer):\n",
    "            print (\"\\nIs a tie, TRY AGAIN!!!\\n\")\n",
    "        \n",
    "    print (\"The winner is\", rock_paper_scissors(human,computer))\n",
    "     \n",
    "\n",
    "# and we run it with this incantation\n",
    "if __name__ == \"__main__\":\n",
    "    main()"
   ]
  },
  {
   "cell_type": "code",
   "execution_count": null,
   "metadata": {},
   "outputs": [],
   "source": []
  }
 ],
 "metadata": {
  "kernelspec": {
   "display_name": "Python 3",
   "language": "python",
   "name": "python3"
  },
  "language_info": {
   "codemirror_mode": {
    "name": "ipython",
    "version": 3
   },
   "file_extension": ".py",
   "mimetype": "text/x-python",
   "name": "python",
   "nbconvert_exporter": "python",
   "pygments_lexer": "ipython3",
   "version": "3.7.1"
  }
 },
 "nbformat": 4,
 "nbformat_minor": 2
}
