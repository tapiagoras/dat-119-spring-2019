{
 "cells": [
  {
   "cell_type": "markdown",
   "metadata": {},
   "source": [
    "# Assignment # 4\n",
    "\n",
    "1. Short Answer questions:\n",
    "    - What is a condition-controlled loop? \n",
    "        A condition-controlled loop causes a statement or set of statements to repeat as long as a condition is true.\n",
    "\n",
    "    - What is a count-controlled loop?\n",
    "\n",
    "        A count-controlled loop iterates a specific number of times.\n",
    "\n",
    "    - Why is it critical that accumulator variables are properly initialized?\n",
    "\n",
    "        Because if the initial value is wrong, then, all the calculations that depend on that number will be wrong causing the program to fail. \n",
    "\n",
    "    - Give a general description of the input validation process.\n",
    "\n",
    "        The input validation process is important to avoid GIGO(Garbage-in —> Garbage out) \n",
    "        This process have 4 steps:\n",
    "            1. Get Input of the user\n",
    "            2. Validate the input using the constraints of the problem\n",
    "            3. Alert the user about the wrong input\n",
    "            4. Repeat first step \n",
    "\n",
    "\n",
    "\n",
    "2. You have a group of friends coming to visit, and you want to take them out to eat at a local restaurant. You aren’t sure if any of them have dietary restrictions, but your restaurant choices are as follows:\n",
    "\n",
    "    - Joe’s Gourmet Burgers - Vegetarian: No, Vegan: No, Gluten-free: No\n",
    "    - Main Street Pizza Company - Vegetarian: Yes, Vegan: No, Gluten-free: Yes\n",
    "    - Corner Cafe - Vegetarian: Yes, Vegan: Yes, Gluten-free: Yes\n",
    "    - Mama’s Fine Italian - Vegetarian: Yes, Vegan: No, Gluten-free: No\n",
    "    - The Chef’s Kitchen - Vegetarian: Yes, Vegan: Yes, Gluten-free: Yes<br>\n",
    "  \n",
    "    Write a program that asks whether any members of your party are vegetarian, vegan, or gluten-free, and have it display only the restaurants to which you can take the whole group.\n",
    "\n"
   ]
  },
  {
   "cell_type": "markdown",
   "metadata": {},
   "source": [
    "## Pseudocode\n",
    "\n",
    "    1. Get input from user\n",
    "    2. Evaluate all variable as a true and assign restaurants to the variable result\n",
    "    3. Evaluate each pair of the possible combination as a true and assign restaurants to the variable result\n",
    "    4. Evaluate independent values asuming that the condition for all the possible combinations are false\n",
    "    4. Display the results to the user"
   ]
  },
  {
   "cell_type": "code",
   "execution_count": 52,
   "metadata": {},
   "outputs": [
    {
     "name": "stdout",
     "output_type": "stream",
     "text": [
      "Is anyone in your party a vegetarian? yes\n",
      "Is anyone in your party gluten-free? yes\n",
      "Is anyone in your party a vegan? no\n",
      "Here are your restaurant choices:\n",
      "The Chef’s Kitchen \n",
      "Corner Cafe - Vegetarian \n",
      "Main Street Pizza Company\n"
     ]
    }
   ],
   "source": [
    "'''\n",
    "\n",
    " Fernando Tapia Tinoco \n",
    " 3/6/2019\n",
    " Python 1 - DAT-119 - Spring 2019\n",
    " Assignment # 4\n",
    "     program that asks whether any members of your party are vegetarian, vegan, \n",
    "     or gluten-free, and have it display only the restaurants to which you can take \n",
    "     the whole group.\n",
    "\n",
    "'''\n",
    "# Input the clasification\n",
    "vegetarian = input(\"Is anyone in your party a vegetarian? \")\n",
    "gluten_free = input(\"Is anyone in your party gluten-free? \")\n",
    "vegan = input(\"Is anyone in your party a vegan? \")\n",
    "\n",
    "results=\"\"\n",
    "\n",
    "# Evaluate conditions.\n",
    "if (vegetarian == \"yes\" and gluten_free == \"yes\" and vegan == \"yes\"):\n",
    "    results = results + \"The Chef’s Kitchen \\n\" + \"Corner Cafe - Vegetarian \\n\"\n",
    "elif (vegetarian == \"yes\" and gluten_free == \"yes\") or (gluten_free == \"yes\" and vegan != \"yes\"):\n",
    "    results = results  + \"The Chef’s Kitchen \\n\" + \"Corner Cafe - Vegetarian \\n\" + \"Main Street Pizza Company\"\n",
    "elif (vegan == \"yes\") and (gluten_free == \"yes\" or vegetarian == \"yes\"):\n",
    "    results = results + \"The Chef’s Kitchen \\n\" + \"Corner Cafe - Vegetarian \\n\"\n",
    "elif (vegetarian == \"yes\"):\n",
    "    results = results  + \"The Chef’s Kitchen \\n\" + \"Corner Cafe - Vegetarian \\n\" + \"Main Street Pizza Company\\n\"+\"Mama’s Fine Italian \"\n",
    "elif (vegan == \"yes\"):\n",
    "     results = results + \"The Chef’s Kitchen \\n\" + \"Corner Cafe - Vegetarian \\n\" \n",
    "else :\n",
    "     results = results  + \"Joe’s Gourmet Burgers \\n\"+ \"The Chef’s Kitchen \\n\" + \"Corner Cafe - Vegetarian \\n\" + \"Main Street Pizza Company\\n\"+\"Mama’s Fine Italian \"\n",
    "\n",
    "        \n",
    "#Display result\n",
    "print (\"Here are your restaurant choices:\\n\"+ results)\n"
   ]
  },
  {
   "cell_type": "code",
   "execution_count": null,
   "metadata": {},
   "outputs": [],
   "source": []
  },
  {
   "cell_type": "code",
   "execution_count": null,
   "metadata": {},
   "outputs": [],
   "source": []
  }
 ],
 "metadata": {
  "kernelspec": {
   "display_name": "Python 3",
   "language": "python",
   "name": "python3"
  },
  "language_info": {
   "codemirror_mode": {
    "name": "ipython",
    "version": 3
   },
   "file_extension": ".py",
   "mimetype": "text/x-python",
   "name": "python",
   "nbconvert_exporter": "python",
   "pygments_lexer": "ipython3",
   "version": "3.7.1"
  }
 },
 "nbformat": 4,
 "nbformat_minor": 2
}
